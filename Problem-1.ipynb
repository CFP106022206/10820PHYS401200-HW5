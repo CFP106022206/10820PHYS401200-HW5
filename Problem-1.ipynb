{
 "cells": [
  {
   "cell_type": "code",
   "execution_count": 1,
   "metadata": {},
   "outputs": [],
   "source": [
    "import numpy as np\n",
    "from scipy import integrate\n",
    "import matplotlib.pyplot as plt"
   ]
  },
  {
   "cell_type": "markdown",
   "metadata": {},
   "source": [
    "# iTEBD: tranverse-field Ising model\n",
    "\n",
    "$$\n",
    "  H \n",
    "  = \\sum_i -J \\sigma^z_i \\sigma^z_{i+1} - h \\sigma^x_i\n",
    "  = \\sum_i -J \\sigma^z_i \\sigma^z_{i+1} - \\frac{h}{2} \\left( \\sigma^x_i I_{i+1} + I_i \\sigma^x_{i+1}\\right)\n",
    "  = \\sum_i h_{i,i+1}.\n",
    "$$\n",
    "$$\n",
    "  h_{i,i+1} = -J \\sigma^z_i \\sigma^z_{i+1} -\\frac{h}{2} \\left( \\sigma^x_i I_{i+1} + I_i \\sigma^x_{i+1}\\right).\n",
    "$$\n",
    "By using direct product, one finds:\n",
    "$$ \n",
    "  \\sigma^z_i \\sigma^z_{i+1} \n",
    "  = \\left(\n",
    "    \\begin{array}{cccc}\n",
    "      1 & 0 & 0 & 0 \\\\\n",
    "      0 & -1 & 0 & 0 \\\\\n",
    "      0 & 0 & -1 & 0 \\\\\n",
    "      0 & 0 & 0 & 1\n",
    "    \\end{array}\n",
    "  \\right),\n",
    "  \\sigma^x_i I_{i+1} \n",
    "  = \\left(\n",
    "    \\begin{array}{cccc}\n",
    "      0 & 0 & 1 & 0 \\\\\n",
    "      0 & 0 & 0 & 1 \\\\\n",
    "      1 & 0 & 0 & 0 \\\\\n",
    "      0 & 1 & 0 & 0\n",
    "    \\end{array}\n",
    "  \\right),\n",
    "  I_i \\sigma^x_{i+1} \n",
    "  = \\left(\n",
    "    \\begin{array}{cccc}\n",
    "      0 & 1 & 0 & 0 \\\\\n",
    "      1 & 0 & 0 & 0 \\\\\n",
    "      0 & 0 & 0 & 1 \\\\\n",
    "      0 & 0 & 1 & 0\n",
    "    \\end{array}\n",
    "  \\right)\n",
    "$$\n",
    "and\n",
    "\n",
    "$$\n",
    "h_{i,i+1}\n",
    "  = \\left(\n",
    "    \\begin{array}{cccc}\n",
    "      -J & -\\frac{h}{2} & -\\frac{h}{2} & 0 \\\\\n",
    "      -\\frac{h}{2} & +J & 0 & -\\frac{h}{2} \\\\\n",
    "      -\\frac{h}{2}& 0 & +J & -\\frac{h}{2} \\\\\n",
    "      0 & -\\frac{h}{2} & -\\frac{h}{2} & -J\n",
    "    \\end{array}\n",
    "  \\right)\n",
    "$$\n",
    "\n",
    "The exact energy can be obtained by the following segement of code:"
   ]
  },
  {
   "cell_type": "code",
   "execution_count": 2,
   "metadata": {},
   "outputs": [
    {
     "name": "stdout",
     "output_type": "stream",
     "text": [
      "-2.127088819946744\n"
     ]
    }
   ],
   "source": [
    "# exact energy for J=1, h\n",
    "h = 2\n",
    "f = lambda k,h : -2*np.sqrt(1+h**2-2*h*np.cos(k))/np.pi/2.\n",
    "E0_exact = integrate.quad(f, 0, np.pi, args=(h,))[0]\n",
    "print(E0_exact)"
   ]
  },
  {
   "cell_type": "markdown",
   "metadata": {},
   "source": [
    "# Problem-1\n",
    "Implement iTEBD algorithm to calcualte the ground state energy. Your answer should depend on\n",
    "* J, h, chi=D=bond dimension, dt, N\n",
    "\n",
    "For J=-1.0; g=2; chi=10; d=2; delta=0.005; N=10000; You should get something like\n",
    "* E_iTEBD = -2.126544821260969\n",
    "* E_exact = -2.127088819946744"
   ]
  },
  {
   "cell_type": "code",
   "execution_count": null,
   "metadata": {},
   "outputs": [],
   "source": []
  }
 ],
 "metadata": {
  "kernelspec": {
   "display_name": "Python 3",
   "language": "python",
   "name": "python3"
  },
  "language_info": {
   "codemirror_mode": {
    "name": "ipython",
    "version": 3
   },
   "file_extension": ".py",
   "mimetype": "text/x-python",
   "name": "python",
   "nbconvert_exporter": "python",
   "pygments_lexer": "ipython3",
   "version": "3.7.3"
  }
 },
 "nbformat": 4,
 "nbformat_minor": 4
}
